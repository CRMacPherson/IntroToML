{
  "nbformat": 4,
  "nbformat_minor": 0,
  "metadata": {
    "colab": {
      "name": "Classification.ipynb",
      "provenance": [],
      "collapsed_sections": [],
      "toc_visible": true,
      "authorship_tag": "ABX9TyOPiXu4pethqKhtHItUxfsh",
      "include_colab_link": true
    },
    "kernelspec": {
      "name": "python3",
      "display_name": "Python 3"
    },
    "language_info": {
      "name": "python"
    }
  },
  "cells": [
    {
      "cell_type": "markdown",
      "metadata": {
        "id": "view-in-github",
        "colab_type": "text"
      },
      "source": [
        "<a href=\"https://colab.research.google.com/github/Center-for-Health-Data-Science/IntroToML/blob/main/Classification.ipynb\" target=\"_parent\"><img src=\"https://colab.research.google.com/assets/colab-badge.svg\" alt=\"Open In Colab\"/></a>"
      ]
    },
    {
      "cell_type": "markdown",
      "source": [
        "# Classification\n",
        "In this part of the exercises, we are going to use the two approaches we learned for classification, viz., logistic regression and linear discriminant analysis. First, let us begin by using the \"voting data\" (available on github) to explore logistic regression and compare it to linear regression (The full raw data on voting survey in the US can be downloaded from ANES at https://electionstudies.org/data-center/2020-time-series-study/ - you have to log in to download the data OR drop me an email)."
      ],
      "metadata": {
        "id": "rexoOmZKaHlf"
      }
    },
    {
      "cell_type": "markdown",
      "source": [
        "## Logistic regression\n",
        "First let us recall what the form of the logistic regression looks like. If $p(X)\\equiv P(Y=1 | X)$ is defined as the probability of an outcome of $Y=1$ given X, then the logistic regression takes the form\n",
        "$$log\\left(\\frac{p(X)}{1-p(X)}\\right) = \\beta_0 + \\beta_1x$$\n",
        "If we have several observations of $X$ and $Y$, specifically, $x_1, x_2, \\cdots x_n$ and correspondingly $Y_1, Y_2, \\cdots Y_n$, then we can write the likelihood funciton of $\\beta_0$ and $\\beta_1$ as \n",
        "$$L(\\beta_0, \\beta_1) = \\prod_{i:Y_i=1} p(x_i) \\prod_{i:Y_i=0} (1-p(x_i))$$\n",
        " and the log-likelihood can be written as \n",
        " $$l(\\beta_0, \\beta_1) = \\sum_{i:Y_i=1} log(p(x_i)) \\sum_{i:Y_i=0} log(1-p(x_i))$$\n",
        "\n",
        "This -ve of the log-likelihood is our cost function, which we want to minimize. \n",
        "The math above is only for completeness' sake, you do not need to know it. \n",
        "\n",
        "Now let us see if we can perform a logistic regression using the voting data. \n",
        "\n",
        "First let us download the data from github. "
      ],
      "metadata": {
        "id": "gth-jjvXb1yx"
      }
    },
    {
      "cell_type": "code",
      "execution_count": 12,
      "metadata": {
        "colab": {
          "base_uri": "https://localhost:8080/"
        },
        "id": "4VGnF1zxaFi4",
        "outputId": "677ec704-3736-4dbc-985c-83745d33db19"
      },
      "outputs": [
        {
          "output_type": "stream",
          "name": "stderr",
          "text": [
            "--2022-05-23 01:42:41--  https://raw.githubusercontent.com/Center-for-Health-Data-Science/IntroToML/main/data/Voting_data.txt\n",
            "Resolving raw.githubusercontent.com (raw.githubusercontent.com)... 185.199.111.133, 185.199.108.133, 185.199.110.133, ...\n",
            "Connecting to raw.githubusercontent.com (raw.githubusercontent.com)|185.199.111.133|:443... connected.\n",
            "HTTP request sent, awaiting response... 200 OK\n",
            "Length: 48715 (48K) [text/plain]\n",
            "Saving to: ‘Voting_data.txt’\n",
            "\n",
            "     0K .......... .......... .......... .......... .......   100% 2.68M=0.02s\n",
            "\n",
            "2022-05-23 01:42:41 (2.68 MB/s) - ‘Voting_data.txt’ saved [48715/48715]\n",
            "\n"
          ]
        }
      ],
      "source": [
        "%%bash\n",
        "rm -f Voting_data*\n",
        "wget https://raw.githubusercontent.com/Center-for-Health-Data-Science/IntroToML/main/data/Voting_data.txt"
      ]
    },
    {
      "cell_type": "markdown",
      "source": [
        "Let us also load all the libraries we need in python."
      ],
      "metadata": {
        "id": "NXEiVxb9aHq-"
      }
    },
    {
      "cell_type": "code",
      "source": [
        "import numpy as np\n",
        "import pandas as pd\n",
        "%matplotlib inline\n",
        "import matplotlib.pyplot as plt\n",
        "import seaborn as sns"
      ],
      "metadata": {
        "id": "EOfydiS5eOMd"
      },
      "execution_count": 2,
      "outputs": []
    },
    {
      "cell_type": "markdown",
      "source": [
        "Now let us load the data and take a look at the raw data. "
      ],
      "metadata": {
        "id": "CkkTRTIeeXsl"
      }
    },
    {
      "cell_type": "code",
      "source": [
        "voting = pd.read_table(\"Voting_data.txt\", sep=\"\\t\")\n",
        "voting"
      ],
      "metadata": {
        "colab": {
          "base_uri": "https://localhost:8080/",
          "height": 424
        },
        "id": "QEeBFqXWeir2",
        "outputId": "d9a099d6-d145-486f-c089-2c9ca620a5d1"
      },
      "execution_count": 33,
      "outputs": [
        {
          "output_type": "execute_result",
          "data": {
            "text/plain": [
              "      age voted\n",
              "0      46    no\n",
              "1      37   yes\n",
              "2      40   yes\n",
              "3      41   yes\n",
              "4      72   yes\n",
              "...   ...   ...\n",
              "7146   26    no\n",
              "7147   52   yes\n",
              "7148   45   yes\n",
              "7149   65    no\n",
              "7150   38   yes\n",
              "\n",
              "[7151 rows x 2 columns]"
            ],
            "text/html": [
              "\n",
              "  <div id=\"df-82a7652a-6c2b-4f56-810f-b3af82b66f67\">\n",
              "    <div class=\"colab-df-container\">\n",
              "      <div>\n",
              "<style scoped>\n",
              "    .dataframe tbody tr th:only-of-type {\n",
              "        vertical-align: middle;\n",
              "    }\n",
              "\n",
              "    .dataframe tbody tr th {\n",
              "        vertical-align: top;\n",
              "    }\n",
              "\n",
              "    .dataframe thead th {\n",
              "        text-align: right;\n",
              "    }\n",
              "</style>\n",
              "<table border=\"1\" class=\"dataframe\">\n",
              "  <thead>\n",
              "    <tr style=\"text-align: right;\">\n",
              "      <th></th>\n",
              "      <th>age</th>\n",
              "      <th>voted</th>\n",
              "    </tr>\n",
              "  </thead>\n",
              "  <tbody>\n",
              "    <tr>\n",
              "      <th>0</th>\n",
              "      <td>46</td>\n",
              "      <td>no</td>\n",
              "    </tr>\n",
              "    <tr>\n",
              "      <th>1</th>\n",
              "      <td>37</td>\n",
              "      <td>yes</td>\n",
              "    </tr>\n",
              "    <tr>\n",
              "      <th>2</th>\n",
              "      <td>40</td>\n",
              "      <td>yes</td>\n",
              "    </tr>\n",
              "    <tr>\n",
              "      <th>3</th>\n",
              "      <td>41</td>\n",
              "      <td>yes</td>\n",
              "    </tr>\n",
              "    <tr>\n",
              "      <th>4</th>\n",
              "      <td>72</td>\n",
              "      <td>yes</td>\n",
              "    </tr>\n",
              "    <tr>\n",
              "      <th>...</th>\n",
              "      <td>...</td>\n",
              "      <td>...</td>\n",
              "    </tr>\n",
              "    <tr>\n",
              "      <th>7146</th>\n",
              "      <td>26</td>\n",
              "      <td>no</td>\n",
              "    </tr>\n",
              "    <tr>\n",
              "      <th>7147</th>\n",
              "      <td>52</td>\n",
              "      <td>yes</td>\n",
              "    </tr>\n",
              "    <tr>\n",
              "      <th>7148</th>\n",
              "      <td>45</td>\n",
              "      <td>yes</td>\n",
              "    </tr>\n",
              "    <tr>\n",
              "      <th>7149</th>\n",
              "      <td>65</td>\n",
              "      <td>no</td>\n",
              "    </tr>\n",
              "    <tr>\n",
              "      <th>7150</th>\n",
              "      <td>38</td>\n",
              "      <td>yes</td>\n",
              "    </tr>\n",
              "  </tbody>\n",
              "</table>\n",
              "<p>7151 rows × 2 columns</p>\n",
              "</div>\n",
              "      <button class=\"colab-df-convert\" onclick=\"convertToInteractive('df-82a7652a-6c2b-4f56-810f-b3af82b66f67')\"\n",
              "              title=\"Convert this dataframe to an interactive table.\"\n",
              "              style=\"display:none;\">\n",
              "        \n",
              "  <svg xmlns=\"http://www.w3.org/2000/svg\" height=\"24px\"viewBox=\"0 0 24 24\"\n",
              "       width=\"24px\">\n",
              "    <path d=\"M0 0h24v24H0V0z\" fill=\"none\"/>\n",
              "    <path d=\"M18.56 5.44l.94 2.06.94-2.06 2.06-.94-2.06-.94-.94-2.06-.94 2.06-2.06.94zm-11 1L8.5 8.5l.94-2.06 2.06-.94-2.06-.94L8.5 2.5l-.94 2.06-2.06.94zm10 10l.94 2.06.94-2.06 2.06-.94-2.06-.94-.94-2.06-.94 2.06-2.06.94z\"/><path d=\"M17.41 7.96l-1.37-1.37c-.4-.4-.92-.59-1.43-.59-.52 0-1.04.2-1.43.59L10.3 9.45l-7.72 7.72c-.78.78-.78 2.05 0 2.83L4 21.41c.39.39.9.59 1.41.59.51 0 1.02-.2 1.41-.59l7.78-7.78 2.81-2.81c.8-.78.8-2.07 0-2.86zM5.41 20L4 18.59l7.72-7.72 1.47 1.35L5.41 20z\"/>\n",
              "  </svg>\n",
              "      </button>\n",
              "      \n",
              "  <style>\n",
              "    .colab-df-container {\n",
              "      display:flex;\n",
              "      flex-wrap:wrap;\n",
              "      gap: 12px;\n",
              "    }\n",
              "\n",
              "    .colab-df-convert {\n",
              "      background-color: #E8F0FE;\n",
              "      border: none;\n",
              "      border-radius: 50%;\n",
              "      cursor: pointer;\n",
              "      display: none;\n",
              "      fill: #1967D2;\n",
              "      height: 32px;\n",
              "      padding: 0 0 0 0;\n",
              "      width: 32px;\n",
              "    }\n",
              "\n",
              "    .colab-df-convert:hover {\n",
              "      background-color: #E2EBFA;\n",
              "      box-shadow: 0px 1px 2px rgba(60, 64, 67, 0.3), 0px 1px 3px 1px rgba(60, 64, 67, 0.15);\n",
              "      fill: #174EA6;\n",
              "    }\n",
              "\n",
              "    [theme=dark] .colab-df-convert {\n",
              "      background-color: #3B4455;\n",
              "      fill: #D2E3FC;\n",
              "    }\n",
              "\n",
              "    [theme=dark] .colab-df-convert:hover {\n",
              "      background-color: #434B5C;\n",
              "      box-shadow: 0px 1px 3px 1px rgba(0, 0, 0, 0.15);\n",
              "      filter: drop-shadow(0px 1px 2px rgba(0, 0, 0, 0.3));\n",
              "      fill: #FFFFFF;\n",
              "    }\n",
              "  </style>\n",
              "\n",
              "      <script>\n",
              "        const buttonEl =\n",
              "          document.querySelector('#df-82a7652a-6c2b-4f56-810f-b3af82b66f67 button.colab-df-convert');\n",
              "        buttonEl.style.display =\n",
              "          google.colab.kernel.accessAllowed ? 'block' : 'none';\n",
              "\n",
              "        async function convertToInteractive(key) {\n",
              "          const element = document.querySelector('#df-82a7652a-6c2b-4f56-810f-b3af82b66f67');\n",
              "          const dataTable =\n",
              "            await google.colab.kernel.invokeFunction('convertToInteractive',\n",
              "                                                     [key], {});\n",
              "          if (!dataTable) return;\n",
              "\n",
              "          const docLinkHtml = 'Like what you see? Visit the ' +\n",
              "            '<a target=\"_blank\" href=https://colab.research.google.com/notebooks/data_table.ipynb>data table notebook</a>'\n",
              "            + ' to learn more about interactive tables.';\n",
              "          element.innerHTML = '';\n",
              "          dataTable['output_type'] = 'display_data';\n",
              "          await google.colab.output.renderOutput(dataTable, element);\n",
              "          const docLink = document.createElement('div');\n",
              "          docLink.innerHTML = docLinkHtml;\n",
              "          element.appendChild(docLink);\n",
              "        }\n",
              "      </script>\n",
              "    </div>\n",
              "  </div>\n",
              "  "
            ]
          },
          "metadata": {},
          "execution_count": 33
        }
      ]
    },
    {
      "cell_type": "markdown",
      "source": [
        "We want to use logistic regression to see if the ages of the people are related to their voting tendencies. We can explore this by looking at the distribution of the ages of the people who voted, and those who did not vote. "
      ],
      "metadata": {
        "id": "kT_gNwhVevzM"
      }
    },
    {
      "cell_type": "code",
      "source": [
        "sns.displot(data=voting, x=\"age\", hue=\"voted\", kde=True)"
      ],
      "metadata": {
        "colab": {
          "base_uri": "https://localhost:8080/",
          "height": 388
        },
        "id": "iVC9HVrme5PB",
        "outputId": "4badb093-dbfe-4eff-8421-837897b4bcfd"
      },
      "execution_count": 34,
      "outputs": [
        {
          "output_type": "execute_result",
          "data": {
            "text/plain": [
              "<seaborn.axisgrid.FacetGrid at 0x7fecda1f6290>"
            ]
          },
          "metadata": {},
          "execution_count": 34
        },
        {
          "output_type": "display_data",
          "data": {
            "text/plain": [
              "<Figure size 413.25x360 with 1 Axes>"
            ],
            "image/png": "[encoded data removed]"
          },
          "metadata": {
            "needs_background": "light"
          }
        }
      ]
    },
    {
      "cell_type": "markdown",
      "source": [
        "There seem to be some differences in the ages of the people who vote/do not vote. Older people are more likely to vote compared to the young people. \n",
        "Now, let us use logistic regression to fit the data, so we can predict a person's probability of voting given their age. \n",
        "\n",
        "First, we are going to split the data into training and testing sets, to avoid overfitting. "
      ],
      "metadata": {
        "id": "W5Qdq1Aif_wr"
      }
    },
    {
      "cell_type": "code",
      "source": [
        "from sklearn.model_selection import train_test_split\n",
        "x_train, x_test, y_train, y_test = train_test_split(voting.age, voting.voted, test_size=0.25, random_state=0)\n",
        "x_train = np.array(x_train).reshape(-1, 1)\n",
        "x_test = np.array(x_test).reshape(-1, 1)"
      ],
      "metadata": {
        "id": "Wvn-fLcBhCrk"
      },
      "execution_count": 35,
      "outputs": []
    },
    {
      "cell_type": "markdown",
      "source": [
        "Now, we can perform a logistic regression using the inbuilt logistic regression function. We will only use the training data to estimate the parameters."
      ],
      "metadata": {
        "id": "ghO7-orKhipr"
      }
    },
    {
      "cell_type": "code",
      "source": [
        "from sklearn.linear_model import LogisticRegression\n",
        "logisticRegr = LogisticRegression(class_weight=\"balanced\")\n",
        "logisticRegr.fit(x_train, y_train)"
      ],
      "metadata": {
        "colab": {
          "base_uri": "https://localhost:8080/"
        },
        "id": "dYxx_oLFhn5K",
        "outputId": "ab6f2f43-222c-4c20-d168-2854bad56a53"
      },
      "execution_count": 55,
      "outputs": [
        {
          "output_type": "execute_result",
          "data": {
            "text/plain": [
              "LogisticRegression(class_weight='balanced')"
            ]
          },
          "metadata": {},
          "execution_count": 55
        }
      ]
    },
    {
      "cell_type": "markdown",
      "source": [
        "We can now use this model to predict if a person voted in the test data, and then compute the accuracy of our predictions."
      ],
      "metadata": {
        "id": "g7S4VN2Ij9Qp"
      }
    },
    {
      "cell_type": "code",
      "source": [
        "predictions = logisticRegr.predict(x_test)\n",
        "score = logisticRegr.score(x_test, y_test)\n",
        "print(score)"
      ],
      "metadata": {
        "colab": {
          "base_uri": "https://localhost:8080/"
        },
        "id": "F1OxiWEykF5G",
        "outputId": "8935c0fd-0c94-4839-9456-06ae6c05b84e"
      },
      "execution_count": 56,
      "outputs": [
        {
          "output_type": "stream",
          "name": "stdout",
          "text": [
            "0.5838926174496645\n"
          ]
        }
      ]
    },
    {
      "cell_type": "markdown",
      "source": [
        "We can also generate a confusion matrix - our inaccuracy in predictions to see how we are doing. "
      ],
      "metadata": {
        "id": "GjnHngkgkmLl"
      }
    },
    {
      "cell_type": "code",
      "source": [
        "from sklearn import metrics\n",
        "cm = metrics.confusion_matrix(y_test, predictions)\n",
        "print(cm) \n",
        "sns.heatmap(cm, annot=True, fmt=\".3f\", linewidths=.5, square = True, cmap = 'Blues_r');"
      ],
      "metadata": {
        "colab": {
          "base_uri": "https://localhost:8080/",
          "height": 304
        },
        "id": "6VkFj28pklXo",
        "outputId": "056aecc1-0adf-4a26-fba9-8590aa4d2ec0"
      },
      "execution_count": 57,
      "outputs": [
        {
          "output_type": "stream",
          "name": "stdout",
          "text": [
            "[[207 149]\n",
            " [595 837]]\n"
          ]
        },
        {
          "output_type": "display_data",
          "data": {
            "text/plain": [
              "<Figure size 432x288 with 2 Axes>"
            ],
            "image/png": "[encoded data removed]"
          },
          "metadata": {
            "needs_background": "light"
          }
        }
      ]
    },
    {
      "cell_type": "markdown",
      "source": [
        "# MNIST dataset\n",
        "This was a simple example with only one predictor, and two labels. If you want to play with a more complicated dataset, use the MNIST data built into sklearn. Start by loading the data."
      ],
      "metadata": {
        "id": "mxD53cIaqm0J"
      }
    },
    {
      "cell_type": "code",
      "source": [
        "from sklearn.datasets import load_digits\n",
        "digits = load_digits()"
      ],
      "metadata": {
        "id": "hLIPahUbq1Q1"
      },
      "execution_count": 58,
      "outputs": []
    },
    {
      "cell_type": "markdown",
      "source": [
        "Let us plot and see some of the images."
      ],
      "metadata": {
        "id": "MdtgBE_3rAPV"
      }
    },
    {
      "cell_type": "code",
      "source": [
        "plt.figure(figsize=(20,4))\n",
        "for index, (image, label) in enumerate(zip(digits.data[0:5], digits.target[0:5])):\n",
        " plt.subplot(1, 5, index + 1)\n",
        " plt.imshow(np.reshape(image, (8,8)), cmap=plt.cm.gray)\n",
        " plt.title('Training: %i\\n' % label, fontsize = 20)"
      ],
      "metadata": {
        "colab": {
          "base_uri": "https://localhost:8080/",
          "height": 283
        },
        "id": "i7lThzLSrIXC",
        "outputId": "4b19bcda-81b1-440c-f1ee-4149e6ea4f79"
      },
      "execution_count": 60,
      "outputs": [
        {
          "output_type": "display_data",
          "data": {
            "text/plain": [
              "<Figure size 1440x288 with 5 Axes>"
            ],
            "image/png": "[encoded data removed]"
          },
          "metadata": {
            "needs_background": "light"
          }
        }
      ]
    },
    {
      "cell_type": "markdown",
      "source": [
        "Now use the same techniques as the previous example to see how logistic regression works to classify the data here. "
      ],
      "metadata": {
        "id": "bw9hRWb9rr-r"
      }
    }
  ]
}