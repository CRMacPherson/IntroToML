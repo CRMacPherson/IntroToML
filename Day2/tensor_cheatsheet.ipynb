{
  "nbformat": 4,
  "nbformat_minor": 0,
  "metadata": {
    "colab": {
      "name": "tensor_cheatsheet.ipynb",
      "provenance": [],
      "collapsed_sections": []
    },
    "kernelspec": {
      "name": "python3",
      "display_name": "Python 3"
    },
    "accelerator": "GPU"
  },
  "cells": [
    {
      "cell_type": "markdown",
      "source": [
        "I lost the source, but some blog post."
      ],
      "metadata": {
        "id": "nA5zNBMg0C_E"
      }
    },
    {
      "cell_type": "markdown",
      "metadata": {
        "id": "PPwnuU-C1snB"
      },
      "source": [
        "Importing pytorch"
      ]
    },
    {
      "cell_type": "code",
      "metadata": {
        "id": "ZdvMhuGalu9e"
      },
      "source": [
        "import torch"
      ],
      "execution_count": null,
      "outputs": []
    },
    {
      "cell_type": "markdown",
      "metadata": {
        "id": "SzL0P1j9l6ud"
      },
      "source": [
        "Ways of instantiating tensors"
      ]
    },
    {
      "cell_type": "code",
      "metadata": {
        "id": "3uWdcpP5yZRP",
        "outputId": "a241aa6e-ff13-4a9e-d7a9-4aabfbb20259",
        "colab": {
          "base_uri": "https://localhost:8080/",
          "height": 101
        }
      },
      "source": [
        "zeroes = torch.zeros(4, 16)\n",
        "print(zeroes)\n",
        "print(zeroes.size())"
      ],
      "execution_count": null,
      "outputs": [
        {
          "output_type": "stream",
          "text": [
            "tensor([[0., 0., 0., 0., 0., 0., 0., 0., 0., 0., 0., 0., 0., 0., 0., 0.],\n",
            "        [0., 0., 0., 0., 0., 0., 0., 0., 0., 0., 0., 0., 0., 0., 0., 0.],\n",
            "        [0., 0., 0., 0., 0., 0., 0., 0., 0., 0., 0., 0., 0., 0., 0., 0.],\n",
            "        [0., 0., 0., 0., 0., 0., 0., 0., 0., 0., 0., 0., 0., 0., 0., 0.]])\n",
            "torch.Size([4, 16])\n"
          ],
          "name": "stdout"
        }
      ]
    },
    {
      "cell_type": "code",
      "metadata": {
        "id": "QYBBSdCXygoA",
        "outputId": "fc6a4fc2-55f7-4eac-fc14-54ddebd6b457",
        "colab": {
          "base_uri": "https://localhost:8080/",
          "height": 101
        }
      },
      "source": [
        "ones = torch.ones(4, 16)\n",
        "print(ones)\n",
        "print(ones.size())"
      ],
      "execution_count": null,
      "outputs": [
        {
          "output_type": "stream",
          "text": [
            "tensor([[1., 1., 1., 1., 1., 1., 1., 1., 1., 1., 1., 1., 1., 1., 1., 1.],\n",
            "        [1., 1., 1., 1., 1., 1., 1., 1., 1., 1., 1., 1., 1., 1., 1., 1.],\n",
            "        [1., 1., 1., 1., 1., 1., 1., 1., 1., 1., 1., 1., 1., 1., 1., 1.],\n",
            "        [1., 1., 1., 1., 1., 1., 1., 1., 1., 1., 1., 1., 1., 1., 1., 1.]])\n",
            "torch.Size([4, 16])\n"
          ],
          "name": "stdout"
        }
      ]
    },
    {
      "cell_type": "code",
      "metadata": {
        "id": "BAUTabwglxjv",
        "outputId": "64d71e1f-2ba8-4027-9930-a93883e8406b",
        "colab": {
          "base_uri": "https://localhost:8080/",
          "height": 302
        }
      },
      "source": [
        "t1 = torch.randn(4, 16)\n",
        "print(t1)\n",
        "print(t1.size())"
      ],
      "execution_count": null,
      "outputs": [
        {
          "output_type": "stream",
          "text": [
            "tensor([[-1.6625e+00,  2.7177e+00,  4.9130e-01,  1.8090e+00, -1.3411e+00,\n",
            "         -4.5905e-01,  4.7142e-01, -9.5383e-01, -2.9791e-01, -5.2851e-01,\n",
            "          6.6089e-02,  8.5424e-01, -1.1891e+00, -1.1895e+00,  6.2220e-01,\n",
            "          4.0285e-01],\n",
            "        [-2.5563e-01,  1.8037e-01, -1.5442e+00,  1.8908e-01,  3.9931e-01,\n",
            "         -7.0743e-02, -1.2112e+00, -4.1002e-01, -1.5551e+00,  1.0182e-01,\n",
            "         -1.4707e+00, -5.3761e-01,  1.0555e+00,  2.1762e+00,  9.3005e-01,\n",
            "          7.3458e-01],\n",
            "        [-1.1812e-01, -1.5754e+00,  4.6611e-02,  4.1436e-01, -1.3442e+00,\n",
            "          1.9156e+00,  1.9344e+00,  2.4035e-01, -1.1219e+00,  1.0170e+00,\n",
            "          1.5101e+00,  1.1113e+00,  4.2972e-01, -5.3302e-01,  1.0092e+00,\n",
            "         -1.2324e+00],\n",
            "        [ 1.5304e-01,  2.2364e-02, -5.1401e-01,  1.3421e+00, -1.3519e+00,\n",
            "          5.6560e-01, -1.7277e+00, -2.0341e+00,  1.8083e-01,  1.4258e+00,\n",
            "          2.1304e+00,  6.8268e-02,  1.5944e+00,  7.8090e-01,  7.3802e-04,\n",
            "         -9.4927e-01]])\n",
            "torch.Size([4, 16])\n"
          ],
          "name": "stdout"
        }
      ]
    },
    {
      "cell_type": "code",
      "metadata": {
        "id": "VOsOwW0DyrO2",
        "outputId": "a62b25c7-5b2c-4f5d-ce8f-6b085796e177",
        "colab": {
          "base_uri": "https://localhost:8080/",
          "height": 50
        }
      },
      "source": [
        "a_list = [1, 2, 3, 4]\n",
        "t2 = torch.tensor(a_list)\n",
        "print(t2)\n",
        "print(t2.size())"
      ],
      "execution_count": null,
      "outputs": [
        {
          "output_type": "stream",
          "text": [
            "tensor([1, 2, 3, 4])\n",
            "torch.Size([4])\n"
          ],
          "name": "stdout"
        }
      ]
    },
    {
      "cell_type": "code",
      "metadata": {
        "id": "ZIoOdK1wl-tX",
        "outputId": "28a753f4-a1eb-4ac3-80f1-1555b045fe8f",
        "colab": {
          "base_uri": "https://localhost:8080/",
          "height": 67
        }
      },
      "source": [
        "nested_list = [[-1, 2, -3, 4], [-5, 6, -7, 8]]\n",
        "t2 = torch.tensor(nested_list, dtype=torch.float)\n",
        "print(t2)\n",
        "print(t2.size())"
      ],
      "execution_count": null,
      "outputs": [
        {
          "output_type": "stream",
          "text": [
            "tensor([[-1.,  2., -3.,  4.],\n",
            "        [-5.,  6., -7.,  8.]])\n",
            "torch.Size([2, 4])\n"
          ],
          "name": "stdout"
        }
      ]
    },
    {
      "cell_type": "markdown",
      "metadata": {
        "id": "EpYX2lwImhUv"
      },
      "source": [
        "Move a tensor to the GPU"
      ]
    },
    {
      "cell_type": "code",
      "metadata": {
        "id": "laTUMZM2mfJ6",
        "outputId": "6b7b0416-1128-4145-ea98-285c3a1f8faf",
        "colab": {
          "base_uri": "https://localhost:8080/",
          "height": 50
        }
      },
      "source": [
        "if torch.cuda.is_available:\n",
        "  t2 = t2.to('cuda')\n",
        "print(t2)"
      ],
      "execution_count": null,
      "outputs": [
        {
          "output_type": "stream",
          "text": [
            "tensor([[1., 2., 3., 4.],\n",
            "        [5., 6., 7., 8.]], device='cuda:0')\n"
          ],
          "name": "stdout"
        }
      ]
    },
    {
      "cell_type": "markdown",
      "metadata": {
        "id": "MU4astUKmxs8"
      },
      "source": [
        "Move a tensor from GPU to CPU"
      ]
    },
    {
      "cell_type": "code",
      "metadata": {
        "id": "-R34DwUkmxPz",
        "outputId": "71b6ba28-41b7-42d4-bf97-ffe082648ee4",
        "colab": {
          "base_uri": "https://localhost:8080/",
          "height": 50
        }
      },
      "source": [
        "t2 = t2.to('cpu')\n",
        "print(t2)"
      ],
      "execution_count": null,
      "outputs": [
        {
          "output_type": "stream",
          "text": [
            "tensor([[1., 2., 3., 4.],\n",
            "        [5., 6., 7., 8.]])\n"
          ],
          "name": "stdout"
        }
      ]
    },
    {
      "cell_type": "markdown",
      "metadata": {
        "id": "ksL83iZZm-VC"
      },
      "source": [
        "Type casting"
      ]
    },
    {
      "cell_type": "code",
      "metadata": {
        "id": "pjG2exIzm9-Y",
        "outputId": "6fe3386d-b1ff-41b2-e0f4-85cf73ce2199",
        "colab": {
          "base_uri": "https://localhost:8080/",
          "height": 50
        }
      },
      "source": [
        "t2 = t2.int()\n",
        "print(t2)"
      ],
      "execution_count": null,
      "outputs": [
        {
          "output_type": "stream",
          "text": [
            "tensor([[-1,  2, -3,  4],\n",
            "        [-5,  6, -7,  8]], dtype=torch.int32)\n"
          ],
          "name": "stdout"
        }
      ]
    },
    {
      "cell_type": "markdown",
      "metadata": {
        "id": "3Vvj39BdnJ_Q"
      },
      "source": [
        "Use built in math operators to transform in parallel (never use loops to iterate over elements of a tensor)"
      ]
    },
    {
      "cell_type": "code",
      "metadata": {
        "id": "WPsLEqwinJX3",
        "outputId": "b1c1ec51-94da-4e2d-932b-13a795c0f288",
        "colab": {
          "base_uri": "https://localhost:8080/",
          "height": 50
        }
      },
      "source": [
        "t2 = t2.abs()\n",
        "print(t2)"
      ],
      "execution_count": null,
      "outputs": [
        {
          "output_type": "stream",
          "text": [
            "tensor([[1, 2, 3, 4],\n",
            "        [5, 6, 7, 8]], dtype=torch.int32)\n"
          ],
          "name": "stdout"
        }
      ]
    },
    {
      "cell_type": "markdown",
      "metadata": {
        "id": "qXwbbJoGnquF"
      },
      "source": [
        "The first dimension is usually the batch dimension. That means that each element of dimension 0 is an input or output of an independent instance in a neural net. Try to make sure any transformations are only done on dimensions other than 0."
      ]
    },
    {
      "cell_type": "code",
      "metadata": {
        "id": "6y8dp7oEnqdI",
        "outputId": "4e881c85-99fe-4fb3-9daf-86596917df1a",
        "colab": {
          "base_uri": "https://localhost:8080/",
          "height": 50
        }
      },
      "source": [
        "t3 = torch.sum(t2, dim=1)\n",
        "print(t3)\n",
        "print(t3.size())"
      ],
      "execution_count": null,
      "outputs": [
        {
          "output_type": "stream",
          "text": [
            "tensor([10, 26])\n",
            "torch.Size([2])\n"
          ],
          "name": "stdout"
        }
      ]
    },
    {
      "cell_type": "markdown",
      "metadata": {
        "id": "QBFZyz5VpS6C"
      },
      "source": [
        "Something more complicated. Imagine you have a 4x4 screen of pixels from an RGB screen. That is, each value is R, G, or B values in the range [0, 255]. You might have the R, G, and B channels separated out so that all the red channel values for each pixel are in dimension 0, all the green channel values for each pixel are in dimension 1, and all the blue channel values for each pixel are in dimension 2."
      ]
    },
    {
      "cell_type": "code",
      "metadata": {
        "id": "a2TPPu_hofeU",
        "outputId": "c4f8bcee-4e51-4458-9205-0d03c59eea93",
        "colab": {
          "base_uri": "https://localhost:8080/",
          "height": 269
        }
      },
      "source": [
        "threedee_list = [[[1, 2, 3, 4], [5, 6, 7, 8], [9, 10, 11, 12], [13, 14, 15, 16]],\n",
        "                 [[17, 18, 19, 20], [21, 22, 23, 24], [25, 26, 27, 28], [29, 30, 31, 32]],\n",
        "                 [[33, 34, 35, 36], [37, 38, 39, 40], [41, 42, 43, 44], [45, 46, 47, 48]]]\n",
        "t4 = torch.tensor(threedee_list)\n",
        "print(t4)\n",
        "print(t4.size())"
      ],
      "execution_count": null,
      "outputs": [
        {
          "output_type": "stream",
          "text": [
            "tensor([[[ 1,  2,  3,  4],\n",
            "         [ 5,  6,  7,  8],\n",
            "         [ 9, 10, 11, 12],\n",
            "         [13, 14, 15, 16]],\n",
            "\n",
            "        [[17, 18, 19, 20],\n",
            "         [21, 22, 23, 24],\n",
            "         [25, 26, 27, 28],\n",
            "         [29, 30, 31, 32]],\n",
            "\n",
            "        [[33, 34, 35, 36],\n",
            "         [37, 38, 39, 40],\n",
            "         [41, 42, 43, 44],\n",
            "         [45, 46, 47, 48]]])\n",
            "torch.Size([3, 4, 4])\n"
          ],
          "name": "stdout"
        }
      ]
    },
    {
      "cell_type": "markdown",
      "metadata": {
        "id": "J-JJKewIp1uy"
      },
      "source": [
        "Pixel 0,0 would have the RGB value of..."
      ]
    },
    {
      "cell_type": "code",
      "metadata": {
        "id": "b0NxFUKrp7uU",
        "outputId": "8bda879a-5543-468d-85df-006100b27b48",
        "colab": {
          "base_uri": "https://localhost:8080/",
          "height": 34
        }
      },
      "source": [
        "pixel = [t4[0][0][0], t4[1][0][0], t4[2][0][0]]\n",
        "print(pixel)"
      ],
      "execution_count": null,
      "outputs": [
        {
          "output_type": "stream",
          "text": [
            "[tensor(1), tensor(17), tensor(33)]\n"
          ],
          "name": "stdout"
        }
      ]
    },
    {
      "cell_type": "markdown",
      "metadata": {
        "id": "kbLsvYOWsHp-"
      },
      "source": [
        "If you have a single element in a tensor and you want the value out of the tensor so you can do normal python stuff with it use ```.item()```"
      ]
    },
    {
      "cell_type": "code",
      "metadata": {
        "id": "YxYntNbcsSCe",
        "outputId": "dfdc1d57-ad09-4104-d6ab-637aef15c8f0",
        "colab": {
          "base_uri": "https://localhost:8080/",
          "height": 34
        }
      },
      "source": [
        "pixel = [t4[0][0][0].item(), t4[1][0][0].item(), t4[2][0][0].item()]\n",
        "print(pixel)"
      ],
      "execution_count": null,
      "outputs": [
        {
          "output_type": "stream",
          "text": [
            "[1, 17, 33]\n"
          ],
          "name": "stdout"
        }
      ]
    },
    {
      "cell_type": "markdown",
      "metadata": {
        "id": "zJbaTNW7qUhS"
      },
      "source": [
        "But you can slice tensors along each dimension. For example to get all values at 0x0...\n",
        "\n"
      ]
    },
    {
      "cell_type": "code",
      "metadata": {
        "id": "w8YW2CZjqOH4",
        "outputId": "3680d4da-26a3-43ad-9291-e1c6b1ca4e23",
        "colab": {
          "base_uri": "https://localhost:8080/",
          "height": 34
        }
      },
      "source": [
        "pixel_tensor = t4[:, 0, 0]\n",
        "print(pixel_tensor)"
      ],
      "execution_count": null,
      "outputs": [
        {
          "output_type": "stream",
          "text": [
            "tensor([ 1, 17, 33])\n"
          ],
          "name": "stdout"
        }
      ]
    },
    {
      "cell_type": "markdown",
      "metadata": {
        "id": "SGM2JcFCsntw"
      },
      "source": [
        "You can get regular python lists out of tensors too"
      ]
    },
    {
      "cell_type": "code",
      "metadata": {
        "id": "F_0Zdav5srd5",
        "outputId": "5e0bb469-459e-4c77-f9a6-baf4751821a3",
        "colab": {
          "base_uri": "https://localhost:8080/",
          "height": 34
        }
      },
      "source": [
        "pixel_list = pixel_tensor.tolist()\n",
        "print(pixel_list)"
      ],
      "execution_count": null,
      "outputs": [
        {
          "output_type": "stream",
          "text": [
            "[1, 17, 33]\n"
          ],
          "name": "stdout"
        }
      ]
    },
    {
      "cell_type": "markdown",
      "metadata": {
        "id": "wQ9y6U7Urc7U"
      },
      "source": [
        "Math with tensors and scalars"
      ]
    },
    {
      "cell_type": "code",
      "metadata": {
        "id": "NTEqeU_bqst9",
        "outputId": "b22a04a7-246d-4de4-b136-446a742be180",
        "colab": {
          "base_uri": "https://localhost:8080/",
          "height": 252
        }
      },
      "source": [
        "t4.float() / 2"
      ],
      "execution_count": null,
      "outputs": [
        {
          "output_type": "execute_result",
          "data": {
            "text/plain": [
              "tensor([[[ 0.5000,  1.0000,  1.5000,  2.0000],\n",
              "         [ 2.5000,  3.0000,  3.5000,  4.0000],\n",
              "         [ 4.5000,  5.0000,  5.5000,  6.0000],\n",
              "         [ 6.5000,  7.0000,  7.5000,  8.0000]],\n",
              "\n",
              "        [[ 8.5000,  9.0000,  9.5000, 10.0000],\n",
              "         [10.5000, 11.0000, 11.5000, 12.0000],\n",
              "         [12.5000, 13.0000, 13.5000, 14.0000],\n",
              "         [14.5000, 15.0000, 15.5000, 16.0000]],\n",
              "\n",
              "        [[16.5000, 17.0000, 17.5000, 18.0000],\n",
              "         [18.5000, 19.0000, 19.5000, 20.0000],\n",
              "         [20.5000, 21.0000, 21.5000, 22.0000],\n",
              "         [22.5000, 23.0000, 23.5000, 24.0000]]])"
            ]
          },
          "metadata": {
            "tags": []
          },
          "execution_count": 42
        }
      ]
    },
    {
      "cell_type": "markdown",
      "metadata": {
        "id": "gypoPxP8wNLg"
      },
      "source": [
        "What if I wanted all the pixels in each channel in a single row instead of a matrix? ```.view()``` changes the shape without changing the underlying structure of the data."
      ]
    },
    {
      "cell_type": "code",
      "metadata": {
        "id": "lan3SIcrwYV-",
        "outputId": "7e1cdad8-8139-4024-9439-8c4350cac192",
        "colab": {
          "base_uri": "https://localhost:8080/",
          "height": 67
        }
      },
      "source": [
        "num_pixels = t4.size()[1]*t4.size()[2]\n",
        "num_channels = t4.size()[0]\n",
        "t4.view(num_channels, num_pixels)"
      ],
      "execution_count": null,
      "outputs": [
        {
          "output_type": "execute_result",
          "data": {
            "text/plain": [
              "tensor([[ 1,  2,  3,  4,  5,  6,  7,  8,  9, 10, 11, 12, 13, 14, 15, 16],\n",
              "        [17, 18, 19, 20, 21, 22, 23, 24, 25, 26, 27, 28, 29, 30, 31, 32],\n",
              "        [33, 34, 35, 36, 37, 38, 39, 40, 41, 42, 43, 44, 45, 46, 47, 48]])"
            ]
          },
          "metadata": {
            "tags": []
          },
          "execution_count": 78
        }
      ]
    },
    {
      "cell_type": "markdown",
      "metadata": {
        "id": "VJ5gYlD2r7zJ"
      },
      "source": [
        "Suppose you had two 4x4 RGB screens"
      ]
    },
    {
      "cell_type": "code",
      "metadata": {
        "id": "YIIvc03SrloY",
        "outputId": "6fe616b4-2812-455b-f869-eb4e31c69939",
        "colab": {
          "base_uri": "https://localhost:8080/",
          "height": 538
        }
      },
      "source": [
        "t5 = torch.randn(2, 3, 4, 4)\n",
        "print(t5)\n",
        "print(t5.size())"
      ],
      "execution_count": null,
      "outputs": [
        {
          "output_type": "stream",
          "text": [
            "tensor([[[[-0.4680, -0.1794,  1.5356, -1.1662],\n",
            "          [ 0.3892, -0.3884, -1.9835,  0.9022],\n",
            "          [ 0.3620, -0.4374,  0.0507, -0.2595],\n",
            "          [-0.3166,  0.0512,  0.8866,  2.1632]],\n",
            "\n",
            "         [[-0.0888, -1.2013,  1.2385,  2.8678],\n",
            "          [-0.1893, -1.9294,  0.6458, -1.2946],\n",
            "          [-0.5045,  0.2533, -1.0932, -0.7044],\n",
            "          [ 1.0345,  0.5941, -0.3620, -0.8867]],\n",
            "\n",
            "         [[ 1.9300,  1.3803,  1.8367, -0.1224],\n",
            "          [-0.5968,  0.7930,  0.7457,  0.8375],\n",
            "          [ 1.2043, -0.1018,  0.5469, -1.7117],\n",
            "          [ 0.2851, -0.3779, -2.5378, -0.6425]]],\n",
            "\n",
            "\n",
            "        [[[ 0.7711, -0.1986, -0.2374,  2.5042],\n",
            "          [ 1.2424, -1.1035, -0.2942,  0.4099],\n",
            "          [-1.0478,  0.8026,  0.4255, -0.0128],\n",
            "          [ 0.5143,  0.2421, -0.2203,  1.2130]],\n",
            "\n",
            "         [[ 0.5058, -1.1765,  0.1627, -0.0310],\n",
            "          [-0.7204, -1.8918,  0.3841, -0.0335],\n",
            "          [-0.2934,  1.1392,  0.9415,  0.3601],\n",
            "          [ 0.6677, -0.2036,  0.0291,  0.2366]],\n",
            "\n",
            "         [[ 0.2782,  0.5943, -1.2180,  0.4913],\n",
            "          [ 0.2238, -1.5614,  0.9020,  0.2646],\n",
            "          [-0.2629, -0.9784,  1.5005,  0.1882],\n",
            "          [ 0.4882,  0.4232, -1.0574,  0.0529]]]])\n",
            "torch.Size([2, 3, 4, 4])\n"
          ],
          "name": "stdout"
        }
      ]
    },
    {
      "cell_type": "markdown",
      "metadata": {
        "id": "OMKAy_wos50U"
      },
      "source": [
        "Wait, I can't have negative RGB values. I want to know which elements are negative."
      ]
    },
    {
      "cell_type": "code",
      "metadata": {
        "id": "Y0xmOBd2tF6w",
        "outputId": "99506607-aee8-47a4-da96-fd731791aa91",
        "colab": {
          "base_uri": "https://localhost:8080/",
          "height": 521
        }
      },
      "source": [
        "mask = t5 < 0.0\n",
        "print(mask)"
      ],
      "execution_count": null,
      "outputs": [
        {
          "output_type": "stream",
          "text": [
            "tensor([[[[ True,  True, False,  True],\n",
            "          [False,  True,  True, False],\n",
            "          [False,  True, False,  True],\n",
            "          [ True, False, False, False]],\n",
            "\n",
            "         [[ True,  True, False, False],\n",
            "          [ True,  True, False,  True],\n",
            "          [ True, False,  True,  True],\n",
            "          [False, False,  True,  True]],\n",
            "\n",
            "         [[False, False, False,  True],\n",
            "          [ True, False, False, False],\n",
            "          [False,  True, False,  True],\n",
            "          [False,  True,  True,  True]]],\n",
            "\n",
            "\n",
            "        [[[False,  True,  True, False],\n",
            "          [False,  True,  True, False],\n",
            "          [ True, False, False,  True],\n",
            "          [False, False,  True, False]],\n",
            "\n",
            "         [[False,  True, False,  True],\n",
            "          [ True,  True, False,  True],\n",
            "          [ True, False, False, False],\n",
            "          [False,  True, False, False]],\n",
            "\n",
            "         [[False, False,  True, False],\n",
            "          [False,  True, False, False],\n",
            "          [ True,  True, False, False],\n",
            "          [False, False,  True, False]]]])\n"
          ],
          "name": "stdout"
        }
      ]
    },
    {
      "cell_type": "markdown",
      "metadata": {
        "id": "o0MpRdCwvgCE"
      },
      "source": [
        "Make all the negative values into zero with ```.where()```"
      ]
    },
    {
      "cell_type": "code",
      "metadata": {
        "id": "53VkJRsutaM0",
        "outputId": "ca35c0a9-0f05-4e92-b993-0edf3790717f",
        "colab": {
          "base_uri": "https://localhost:8080/",
          "height": 521
        }
      },
      "source": [
        "t6 = t5.where(mask==False, torch.tensor([0.0]))\n",
        "print(t6)"
      ],
      "execution_count": null,
      "outputs": [
        {
          "output_type": "stream",
          "text": [
            "tensor([[[[0.0000, 0.0000, 1.5356, 0.0000],\n",
            "          [0.3892, 0.0000, 0.0000, 0.9022],\n",
            "          [0.3620, 0.0000, 0.0507, 0.0000],\n",
            "          [0.0000, 0.0512, 0.8866, 2.1632]],\n",
            "\n",
            "         [[0.0000, 0.0000, 1.2385, 2.8678],\n",
            "          [0.0000, 0.0000, 0.6458, 0.0000],\n",
            "          [0.0000, 0.2533, 0.0000, 0.0000],\n",
            "          [1.0345, 0.5941, 0.0000, 0.0000]],\n",
            "\n",
            "         [[1.9300, 1.3803, 1.8367, 0.0000],\n",
            "          [0.0000, 0.7930, 0.7457, 0.8375],\n",
            "          [1.2043, 0.0000, 0.5469, 0.0000],\n",
            "          [0.2851, 0.0000, 0.0000, 0.0000]]],\n",
            "\n",
            "\n",
            "        [[[0.7711, 0.0000, 0.0000, 2.5042],\n",
            "          [1.2424, 0.0000, 0.0000, 0.4099],\n",
            "          [0.0000, 0.8026, 0.4255, 0.0000],\n",
            "          [0.5143, 0.2421, 0.0000, 1.2130]],\n",
            "\n",
            "         [[0.5058, 0.0000, 0.1627, 0.0000],\n",
            "          [0.0000, 0.0000, 0.3841, 0.0000],\n",
            "          [0.0000, 1.1392, 0.9415, 0.3601],\n",
            "          [0.6677, 0.0000, 0.0291, 0.2366]],\n",
            "\n",
            "         [[0.2782, 0.5943, 0.0000, 0.4913],\n",
            "          [0.2238, 0.0000, 0.9020, 0.2646],\n",
            "          [0.0000, 0.0000, 1.5005, 0.1882],\n",
            "          [0.4882, 0.4232, 0.0000, 0.0529]]]])\n"
          ],
          "name": "stdout"
        }
      ]
    },
    {
      "cell_type": "markdown",
      "metadata": {
        "id": "MjKYoWuRw94b"
      },
      "source": [
        "We can't have fractional RGB values"
      ]
    },
    {
      "cell_type": "code",
      "metadata": {
        "id": "cjO-lLNrxB8B",
        "outputId": "99ab1192-dc79-475e-fa91-b33b7f936b04",
        "colab": {
          "base_uri": "https://localhost:8080/",
          "height": 521
        }
      },
      "source": [
        "fixed = (t6 / t6.max()) * 255\n",
        "fixed = fixed.int()\n",
        "print(fixed)"
      ],
      "execution_count": null,
      "outputs": [
        {
          "output_type": "stream",
          "text": [
            "tensor([[[[  0,   0, 136,   0],\n",
            "          [ 34,   0,   0,  80],\n",
            "          [ 32,   0,   4,   0],\n",
            "          [  0,   4,  78, 192]],\n",
            "\n",
            "         [[  0,   0, 110, 255],\n",
            "          [  0,   0,  57,   0],\n",
            "          [  0,  22,   0,   0],\n",
            "          [ 91,  52,   0,   0]],\n",
            "\n",
            "         [[171, 122, 163,   0],\n",
            "          [  0,  70,  66,  74],\n",
            "          [107,   0,  48,   0],\n",
            "          [ 25,   0,   0,   0]]],\n",
            "\n",
            "\n",
            "        [[[ 68,   0,   0, 222],\n",
            "          [110,   0,   0,  36],\n",
            "          [  0,  71,  37,   0],\n",
            "          [ 45,  21,   0, 107]],\n",
            "\n",
            "         [[ 44,   0,  14,   0],\n",
            "          [  0,   0,  34,   0],\n",
            "          [  0, 101,  83,  32],\n",
            "          [ 59,   0,   2,  21]],\n",
            "\n",
            "         [[ 24,  52,   0,  43],\n",
            "          [ 19,   0,  80,  23],\n",
            "          [  0,   0, 133,  16],\n",
            "          [ 43,  37,   0,   4]]]], dtype=torch.int32)\n"
          ],
          "name": "stdout"
        }
      ]
    },
    {
      "cell_type": "markdown",
      "metadata": {
        "id": "s2K7TpOhx9bA"
      },
      "source": [
        "We can multiply and add tensors"
      ]
    },
    {
      "cell_type": "code",
      "metadata": {
        "id": "HyAtjWbDx_TN",
        "outputId": "2e230a7a-e269-4cc9-9be1-c73ea095b9e4",
        "colab": {
          "base_uri": "https://localhost:8080/",
          "height": 50
        }
      },
      "source": [
        "t7 = torch.tensor([1, 2, 3, 4])\n",
        "t8 = torch.tensor([5, 6, 7, 8])\n",
        "added = t7 + t8\n",
        "multed = t7 * t8\n",
        "print(added)\n",
        "print(multed)"
      ],
      "execution_count": null,
      "outputs": [
        {
          "output_type": "stream",
          "text": [
            "tensor([ 6,  8, 10, 12])\n",
            "tensor([ 5, 12, 21, 32])\n"
          ],
          "name": "stdout"
        }
      ]
    },
    {
      "cell_type": "markdown",
      "metadata": {
        "id": "Kgwpwhf_zaiK"
      },
      "source": [
        "If you have a list of tensors for whatever reason, you can \"stack\" them into a single batch."
      ]
    },
    {
      "cell_type": "code",
      "metadata": {
        "id": "cKRPRrbVzc-V",
        "outputId": "639acd67-d8d7-4cda-d456-fac47b5ed814",
        "colab": {
          "base_uri": "https://localhost:8080/",
          "height": 67
        }
      },
      "source": [
        "stacked = torch.stack([t7, t8])\n",
        "print(stacked)\n",
        "print(stacked.size())"
      ],
      "execution_count": null,
      "outputs": [
        {
          "output_type": "stream",
          "text": [
            "tensor([[1, 2, 3, 4],\n",
            "        [5, 6, 7, 8]])\n",
            "torch.Size([2, 4])\n"
          ],
          "name": "stdout"
        }
      ]
    }
  ]
}